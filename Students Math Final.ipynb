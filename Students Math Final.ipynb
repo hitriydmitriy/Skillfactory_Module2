{
 "cells": [
  {
   "cell_type": "markdown",
   "id": "bbc48876",
   "metadata": {},
   "source": [
    "# UNICEF Project"
   ]
  },
  {
   "cell_type": "markdown",
   "id": "51e7c530",
   "metadata": {},
   "source": [
    "Цель проекта - выявить влияние условий жизни учащихся на их успеваемость по математике. Задачи проекта - обработать набор данных по учащимся, выявить корреляцию между факторами условий жизни учащихся и их оценкой за экзамен по математике, отобрать параметры будущей модели для прогнозирования результатов экзамена."
   ]
  },
  {
   "cell_type": "markdown",
   "id": "00af5ce6",
   "metadata": {},
   "source": [
    "В датафрейме приведены параметры условий жизни учащихся и их оценка за экзамен по математике. Присутствуют незаполненные ячейки и выбросы в числовых данных."
   ]
  },
  {
   "cell_type": "markdown",
   "id": "0b491eb2",
   "metadata": {},
   "source": [
    "# Проанализируем колонки с числовыми данными на выбросы"
   ]
  },
  {
   "cell_type": "code",
   "execution_count": 1,
   "id": "dfc5c389",
   "metadata": {},
   "outputs": [
    {
     "data": {
      "text/plain": [
       "count    395.000000\n",
       "mean      16.696203\n",
       "std        1.276043\n",
       "min       15.000000\n",
       "25%       16.000000\n",
       "50%       17.000000\n",
       "75%       18.000000\n",
       "max       22.000000\n",
       "Name: age, dtype: float64"
      ]
     },
     "execution_count": 1,
     "metadata": {},
     "output_type": "execute_result"
    },
    {
     "data": {
      "image/png": "[encoded data removed]",
      "text/plain": [
       "<Figure size 432x288 with 1 Axes>"
      ]
     },
     "metadata": {
      "needs_background": "light"
     },
     "output_type": "display_data"
    }
   ],
   "source": [
    "# смотрим на распределение признака для числовых перменных\n",
    "import pandas as pd\n",
    "import matplotlib.pyplot as plt\n",
    "import seaborn as sns\n",
    "from itertools import combinations\n",
    "from scipy.stats import ttest_ind\n",
    "\n",
    "pd.set_option('display.max_rows', 50)  # показывать больше строк\n",
    "pd.set_option('display.max_columns', 50)  # показывать больше колонок\n",
    "\n",
    "stud = pd.read_csv('C:\\Games/stud_math.csv')\n",
    "stud.age.hist()\n",
    "stud.age.describe()  # есть выбросы"
   ]
  },
  {
   "cell_type": "code",
   "execution_count": 22,
   "id": "49c97a0a",
   "metadata": {},
   "outputs": [
    {
     "name": "stdout",
     "output_type": "stream",
     "text": [
      "25-й перцентиль: 16.0, 75-й перцентиль: 18.0, IQR: 2.0,  Границы выбросов: [15.0, 19.0].\n"
     ]
    },
    {
     "data": {
      "text/plain": [
       "count    395.000000\n",
       "mean      16.696203\n",
       "std        1.276043\n",
       "min       15.000000\n",
       "25%       16.000000\n",
       "50%       17.000000\n",
       "75%       18.000000\n",
       "max       22.000000\n",
       "Name: age, dtype: float64"
      ]
     },
     "execution_count": 22,
     "metadata": {},
     "output_type": "execute_result"
    },
    {
     "data": {
      "image/png": "[encoded data removed]",
      "text/plain": [
       "<Figure size 432x288 with 1 Axes>"
      ]
     },
     "metadata": {
      "needs_background": "light"
     },
     "output_type": "display_data"
    }
   ],
   "source": [
    "import pandas as pd\n",
    "import matplotlib.pyplot as plt\n",
    "import seaborn as sns\n",
    "from itertools import combinations\n",
    "from scipy.stats import ttest_ind\n",
    "\n",
    "pd.set_option('display.max_rows', 50)  # показывать больше строк\n",
    "pd.set_option('display.max_columns', 50)  # показывать больше колонок\n",
    "\n",
    "stud = pd.read_csv('C:\\Games/stud_math.csv')\n",
    "\n",
    "#определим интерквартильное расстояние\n",
    "IQR = stud.age.quantile(0.75) - stud.age.quantile(0.25)\n",
    "perc25 = stud.age.quantile(0.25)\n",
    "perc75 = stud.age.quantile(0.75)\n",
    "\n",
    "print(\n",
    "    '25-й перцентиль: {},'.format(perc25),\n",
    "    '75-й перцентиль: {},'.format(perc75),\n",
    "    \"IQR: {}, \".format(IQR),\n",
    "    \"Границы выбросов: [{f}, {l}].\".format(f=perc25 - 0.5*IQR, l=perc75 + 0.5*IQR))\n",
    "\n",
    "stud.age.loc[stud.age.between(\n",
    "    perc25 - 0.5*IQR,\n",
    "    perc75 + 0.5*IQR)].hist(bins=10, range=(14, 23), label='IQR')\n",
    "\n",
    "stud.age.loc[stud.age <= 25].hist(\n",
    "    alpha=0.5, bins=10, range=(14, 23), label='Выбросы')\n",
    "\n",
    "plt.legend()\n",
    "stud.age.describe()  # 20-22 года - выбросы, уберем их позже: stud = stud.loc[stud.age <= 19]"
   ]
  },
  {
   "cell_type": "code",
   "execution_count": 10,
   "id": "53adc9e4",
   "metadata": {},
   "outputs": [
    {
     "data": {
      "text/plain": [
       "count    392.000000\n",
       "mean       2.750000\n",
       "std        1.098127\n",
       "min        0.000000\n",
       "25%        2.000000\n",
       "50%        3.000000\n",
       "75%        4.000000\n",
       "max        4.000000\n",
       "Name: Medu, dtype: float64"
      ]
     },
     "execution_count": 10,
     "metadata": {},
     "output_type": "execute_result"
    },
    {
     "data": {
      "image/png": "[encoded data removed]",
      "text/plain": [
       "<Figure size 432x288 with 1 Axes>"
      ]
     },
     "metadata": {
      "needs_background": "light"
     },
     "output_type": "display_data"
    }
   ],
   "source": [
    "import pandas as pd\n",
    "import matplotlib.pyplot as plt\n",
    "import seaborn as sns\n",
    "from itertools import combinations\n",
    "from scipy.stats import ttest_ind\n",
    "\n",
    "pd.set_option('display.max_rows', 50)  # показывать больше строк\n",
    "pd.set_option('display.max_columns', 50)  # показывать больше колонок\n",
    "\n",
    "stud = pd.read_csv('C:\\Games/stud_math.csv')\n",
    "stud.Medu.hist()\n",
    "stud.Medu.describe()  # нет выбросов"
   ]
  },
  {
   "cell_type": "code",
   "execution_count": 20,
   "id": "fd7714d0",
   "metadata": {},
   "outputs": [
    {
     "data": {
      "text/plain": [
       "2.0     106\n",
       "3.0      96\n",
       "4.0      88\n",
       "1.0      78\n",
       "0.0       2\n",
       "40.0      1\n",
       "Name: Fedu, dtype: int64"
      ]
     },
     "execution_count": 20,
     "metadata": {},
     "output_type": "execute_result"
    },
    {
     "data": {
      "image/png": "[encoded data removed]",
      "text/plain": [
       "<Figure size 432x288 with 1 Axes>"
      ]
     },
     "metadata": {
      "needs_background": "light"
     },
     "output_type": "display_data"
    }
   ],
   "source": [
    "import pandas as pd\n",
    "import matplotlib.pyplot as plt\n",
    "import seaborn as sns\n",
    "from itertools import combinations\n",
    "from scipy.stats import ttest_ind\n",
    "\n",
    "pd.set_option('display.max_rows', 50)  # показывать больше строк\n",
    "pd.set_option('display.max_columns', 50)  # показывать больше колонок\n",
    "\n",
    "stud = pd.read_csv('C:\\Games/stud_math.csv')\n",
    "stud.Fedu.hist()\n",
    "stud.Fedu.describe()  # есть выброс, максимальная оценка = 4, нужно будет убрать его: stud = stud.loc(stud.Fedu <=4)\n",
    "stud.Fedu.value_counts()"
   ]
  },
  {
   "cell_type": "code",
   "execution_count": 36,
   "id": "1f05b0b5",
   "metadata": {},
   "outputs": [
    {
     "data": {
      "text/plain": [
       "count    367.000000\n",
       "mean       1.438692\n",
       "std        0.694181\n",
       "min        1.000000\n",
       "25%        1.000000\n",
       "50%        1.000000\n",
       "75%        2.000000\n",
       "max        4.000000\n",
       "Name: traveltime, dtype: float64"
      ]
     },
     "execution_count": 36,
     "metadata": {},
     "output_type": "execute_result"
    },
    {
     "data": {
      "image/png": "[encoded data removed]",
      "text/plain": [
       "<Figure size 432x288 with 1 Axes>"
      ]
     },
     "metadata": {
      "needs_background": "light"
     },
     "output_type": "display_data"
    }
   ],
   "source": [
    "import pandas as pd\n",
    "import matplotlib.pyplot as plt\n",
    "import seaborn as sns\n",
    "from itertools import combinations\n",
    "from scipy.stats import ttest_ind\n",
    "\n",
    "pd.set_option('display.max_rows', 50)  # показывать больше строк\n",
    "pd.set_option('display.max_columns', 50)  # показывать больше колонок\n",
    "\n",
    "stud = pd.read_csv('C:\\Games/stud_math.csv')\n",
    "stud.traveltime.hist()\n",
    "stud.traveltime.describe()  # нет выбросов\n",
    "# stud.traveltime.value_counts()"
   ]
  },
  {
   "cell_type": "code",
   "execution_count": 37,
   "id": "dc2d76c7",
   "metadata": {},
   "outputs": [
    {
     "data": {
      "text/plain": [
       "count    388.000000\n",
       "mean       2.038660\n",
       "std        0.842078\n",
       "min        1.000000\n",
       "25%        1.000000\n",
       "50%        2.000000\n",
       "75%        2.000000\n",
       "max        4.000000\n",
       "Name: studytime, dtype: float64"
      ]
     },
     "execution_count": 37,
     "metadata": {},
     "output_type": "execute_result"
    },
    {
     "data": {
      "image/png": "[encoded data removed]",
      "text/plain": [
       "<Figure size 432x288 with 1 Axes>"
      ]
     },
     "metadata": {
      "needs_background": "light"
     },
     "output_type": "display_data"
    }
   ],
   "source": [
    "import pandas as pd\n",
    "import matplotlib.pyplot as plt\n",
    "import seaborn as sns\n",
    "from itertools import combinations\n",
    "from scipy.stats import ttest_ind\n",
    "\n",
    "pd.set_option('display.max_rows', 50)  # показывать больше строк\n",
    "pd.set_option('display.max_columns', 50)  # показывать больше колонок\n",
    "\n",
    "stud = pd.read_csv('C:\\Games/stud_math.csv')\n",
    "stud.studytime.hist()\n",
    "stud.studytime.describe()  # нет выбросов"
   ]
  },
  {
   "cell_type": "code",
   "execution_count": 39,
   "id": "cadc0b94",
   "metadata": {},
   "outputs": [
    {
     "data": {
      "text/plain": [
       "0.0    293\n",
       "1.0     49\n",
       "2.0     16\n",
       "3.0     15\n",
       "Name: failures, dtype: int64"
      ]
     },
     "execution_count": 39,
     "metadata": {},
     "output_type": "execute_result"
    },
    {
     "data": {
      "image/png": "[encoded data removed]",
      "text/plain": [
       "<Figure size 432x288 with 1 Axes>"
      ]
     },
     "metadata": {
      "needs_background": "light"
     },
     "output_type": "display_data"
    }
   ],
   "source": [
    "import pandas as pd\n",
    "import matplotlib.pyplot as plt\n",
    "import seaborn as sns\n",
    "from itertools import combinations\n",
    "from scipy.stats import ttest_ind\n",
    "\n",
    "pd.set_option('display.max_rows', 50)  # показывать больше строк\n",
    "pd.set_option('display.max_columns', 50)  # показывать больше колонок\n",
    "\n",
    "stud = pd.read_csv('C:\\Games/stud_math.csv')\n",
    "stud.failures.hist()\n",
    "stud.failures.value_counts()  # нет выбросов"
   ]
  },
  {
   "cell_type": "code",
   "execution_count": 27,
   "id": "8480ca91",
   "metadata": {},
   "outputs": [
    {
     "data": {
      "text/plain": [
       "-6.0     194\n",
       "-3.0     103\n",
       "-9.0      64\n",
       "-12.0     27\n",
       "Name: studytime, granular, dtype: int64"
      ]
     },
     "execution_count": 27,
     "metadata": {},
     "output_type": "execute_result"
    },
    {
     "data": {
      "image/png": "[encoded data removed]",
      "text/plain": [
       "<Figure size 432x288 with 1 Axes>"
      ]
     },
     "metadata": {
      "needs_background": "light"
     },
     "output_type": "display_data"
    }
   ],
   "source": [
    "import pandas as pd\n",
    "import matplotlib.pyplot as plt\n",
    "import seaborn as sns\n",
    "from itertools import combinations\n",
    "from scipy.stats import ttest_ind\n",
    "\n",
    "pd.set_option('display.max_rows', 50)  # показывать больше строк\n",
    "pd.set_option('display.max_columns', 50)  # показывать больше колонок\n",
    "\n",
    "stud = pd.read_csv('C:\\Games/stud_math.csv')\n",
    "stud['studytime, granular'].hist()\n",
    "stud['studytime, granular'].value_counts()  # нужно удалить столбец (его нет в описании и позже мы увидим, что он коррелирует с studytime)"
   ]
  },
  {
   "cell_type": "code",
   "execution_count": 43,
   "id": "fd856108",
   "metadata": {},
   "outputs": [
    {
     "data": {
      "text/plain": [
       " 4.0    182\n",
       " 5.0     99\n",
       " 3.0     62\n",
       " 2.0     17\n",
       " 1.0      7\n",
       "-1.0      1\n",
       "Name: famrel, dtype: int64"
      ]
     },
     "execution_count": 43,
     "metadata": {},
     "output_type": "execute_result"
    },
    {
     "data": {
      "image/png": "[encoded data removed]",
      "text/plain": [
       "<Figure size 432x288 with 1 Axes>"
      ]
     },
     "metadata": {
      "needs_background": "light"
     },
     "output_type": "display_data"
    }
   ],
   "source": [
    "import pandas as pd\n",
    "import matplotlib.pyplot as plt\n",
    "import seaborn as sns\n",
    "from itertools import combinations\n",
    "from scipy.stats import ttest_ind\n",
    "\n",
    "pd.set_option('display.max_rows', 50)  # показывать больше строк\n",
    "pd.set_option('display.max_columns', 50)  # показывать больше колонок\n",
    "\n",
    "stud = pd.read_csv('C:\\Games/stud_math.csv')\n",
    "stud['famrel'].hist() # есть выброс, это ошибка, оценка может быть в пределах от 1 до 5, нужно будет убрать выброс: stud = stud.loc(stud.Fedu >=1)\n",
    "stud['famrel'].value_counts()"
   ]
  },
  {
   "cell_type": "code",
   "execution_count": 44,
   "id": "0d9ee8db",
   "metadata": {},
   "outputs": [
    {
     "data": {
      "text/plain": [
       "3.0    153\n",
       "4.0    112\n",
       "2.0     63\n",
       "5.0     38\n",
       "1.0     18\n",
       "Name: freetime, dtype: int64"
      ]
     },
     "execution_count": 44,
     "metadata": {},
     "output_type": "execute_result"
    },
    {
     "data": {
      "image/png": "[encoded data removed]",
      "text/plain": [
       "<Figure size 432x288 with 1 Axes>"
      ]
     },
     "metadata": {
      "needs_background": "light"
     },
     "output_type": "display_data"
    }
   ],
   "source": [
    "import pandas as pd\n",
    "import matplotlib.pyplot as plt\n",
    "import seaborn as sns\n",
    "from itertools import combinations\n",
    "from scipy.stats import ttest_ind\n",
    "\n",
    "pd.set_option('display.max_rows', 50)  # показывать больше строк\n",
    "pd.set_option('display.max_columns', 50)  # показывать больше колонок\n",
    "\n",
    "stud = pd.read_csv('C:\\Games/stud_math.csv')\n",
    "stud['freetime'].hist()\n",
    "stud['freetime'].value_counts()  # нет выбросов"
   ]
  },
  {
   "cell_type": "code",
   "execution_count": 45,
   "id": "a30c866f",
   "metadata": {},
   "outputs": [
    {
     "data": {
      "text/plain": [
       "3.0    127\n",
       "2.0    101\n",
       "4.0     84\n",
       "5.0     52\n",
       "1.0     23\n",
       "Name: goout, dtype: int64"
      ]
     },
     "execution_count": 45,
     "metadata": {},
     "output_type": "execute_result"
    },
    {
     "data": {
      "image/png": "[encoded data removed]",
      "text/plain": [
       "<Figure size 432x288 with 1 Axes>"
      ]
     },
     "metadata": {
      "needs_background": "light"
     },
     "output_type": "display_data"
    }
   ],
   "source": [
    "import pandas as pd\n",
    "import matplotlib.pyplot as plt\n",
    "import seaborn as sns\n",
    "from itertools import combinations\n",
    "from scipy.stats import ttest_ind\n",
    "\n",
    "pd.set_option('display.max_rows', 50)  # показывать больше строк\n",
    "pd.set_option('display.max_columns', 50)  # показывать больше колонок\n",
    "\n",
    "stud = pd.read_csv('C:\\Games/stud_math.csv')\n",
    "stud['goout'].hist()\n",
    "stud['goout'].value_counts()  # нет выбросов"
   ]
  },
  {
   "cell_type": "code",
   "execution_count": 46,
   "id": "0355875c",
   "metadata": {},
   "outputs": [
    {
     "data": {
      "text/plain": [
       "5.0    138\n",
       "3.0     89\n",
       "4.0     63\n",
       "1.0     47\n",
       "2.0     43\n",
       "Name: health, dtype: int64"
      ]
     },
     "execution_count": 46,
     "metadata": {},
     "output_type": "execute_result"
    },
    {
     "data": {
      "image/png": "[encoded data removed]",
      "text/plain": [
       "<Figure size 432x288 with 1 Axes>"
      ]
     },
     "metadata": {
      "needs_background": "light"
     },
     "output_type": "display_data"
    }
   ],
   "source": [
    "import pandas as pd\n",
    "import matplotlib.pyplot as plt\n",
    "import seaborn as sns\n",
    "from itertools import combinations\n",
    "from scipy.stats import ttest_ind\n",
    "\n",
    "pd.set_option('display.max_rows', 50)  # показывать больше строк\n",
    "pd.set_option('display.max_columns', 50)  # показывать больше колонок\n",
    "\n",
    "stud = pd.read_csv('C:\\Games/stud_math.csv')\n",
    "stud['health'].hist()\n",
    "stud['health'].value_counts()  # нет выбросов"
   ]
  },
  {
   "cell_type": "code",
   "execution_count": 29,
   "id": "c3135b42",
   "metadata": {},
   "outputs": [
    {
     "name": "stdout",
     "output_type": "stream",
     "text": [
      "25-й перцентиль: 0.0, 75-й перцентиль: 8.0, IQR: 8.0,  Границы выбросов: [-32.0, 40.0].\n"
     ]
    },
    {
     "data": {
      "text/plain": [
       "count    383.000000\n",
       "mean       7.279373\n",
       "std       23.465197\n",
       "min        0.000000\n",
       "25%        0.000000\n",
       "50%        4.000000\n",
       "75%        8.000000\n",
       "max      385.000000\n",
       "Name: absences, dtype: float64"
      ]
     },
     "execution_count": 29,
     "metadata": {},
     "output_type": "execute_result"
    },
    {
     "data": {
      "image/png": "[encoded data removed]",
      "text/plain": [
       "<Figure size 432x288 with 1 Axes>"
      ]
     },
     "metadata": {
      "needs_background": "light"
     },
     "output_type": "display_data"
    }
   ],
   "source": [
    "import pandas as pd\n",
    "import matplotlib.pyplot as plt\n",
    "import seaborn as sns\n",
    "from itertools import combinations\n",
    "from scipy.stats import ttest_ind\n",
    "\n",
    "pd.set_option('display.max_rows', 50)  # показывать больше строк\n",
    "pd.set_option('display.max_columns', 50)  # показывать больше колонок\n",
    "\n",
    "stud = pd.read_csv('C:\\Games/stud_math.csv')\n",
    "IQR = stud.absences.quantile(0.75) - stud.absences.quantile(0.25)\n",
    "perc25 = stud.absences.quantile(0.25)\n",
    "perc75 = stud.absences.quantile(0.75)\n",
    "\n",
    "print(\n",
    "    '25-й перцентиль: {},'.format(perc25),\n",
    "    '75-й перцентиль: {},'.format(perc75),\n",
    "    \"IQR: {}, \".format(IQR),\n",
    "    \"Границы выбросов: [{f}, {l}].\".format(f=perc25 - 4*IQR, l=perc75 + 4*IQR))\n",
    "\n",
    "stud.absences.loc[stud.absences.between(\n",
    "    perc25 - 4*IQR,\n",
    "    perc75 + 4*IQR)].hist(bins=50, range=(0, 400), label='IQR')\n",
    "\n",
    "stud.absences.loc[stud.absences <= 100].hist(\n",
    "    alpha=0.5, bins=50, range=(0, 400), label='Выбросы')\n",
    "\n",
    "plt.legend()\n",
    "stud.absences.describe()\n",
    "# stud = stud.loc(stud.absences <= 40) уберем выбросы на основе межквартильного расстояния"
   ]
  },
  {
   "cell_type": "code",
   "execution_count": 51,
   "id": "8a376929",
   "metadata": {},
   "outputs": [
    {
     "data": {
      "text/plain": [
       "50.0     54\n",
       "55.0     46\n",
       "0.0      37\n",
       "75.0     33\n",
       "65.0     31\n",
       "60.0     31\n",
       "40.0     31\n",
       "45.0     27\n",
       "70.0     27\n",
       "80.0     16\n",
       "30.0     15\n",
       "90.0     12\n",
       "35.0      9\n",
       "25.0      7\n",
       "85.0      6\n",
       "95.0      5\n",
       "20.0      1\n",
       "100.0     1\n",
       "Name: score, dtype: int64"
      ]
     },
     "execution_count": 51,
     "metadata": {},
     "output_type": "execute_result"
    },
    {
     "data": {
      "image/png": "[encoded data removed]",
      "text/plain": [
       "<Figure size 432x288 with 1 Axes>"
      ]
     },
     "metadata": {
      "needs_background": "light"
     },
     "output_type": "display_data"
    }
   ],
   "source": [
    "import pandas as pd\n",
    "import matplotlib.pyplot as plt\n",
    "import seaborn as sns\n",
    "from itertools import combinations\n",
    "from scipy.stats import ttest_ind\n",
    "\n",
    "pd.set_option('display.max_rows', 50)  # показывать больше строк\n",
    "pd.set_option('display.max_columns', 50)  # показывать больше колонок\n",
    "\n",
    "stud = pd.read_csv('C:\\Games/stud_math.csv')\n",
    "stud['score'].hist()\n",
    "# 0 оценка - странная, анализируем только область нормального распределения без нулевых оценок: stud = stud.loc(stud.score > 0), корреляция нулевых оценок с другими параметрами жизни невозможна, необходимо уточнить причину нулевых оценок\n",
    "stud['score'].value_counts()"
   ]
  },
  {
   "cell_type": "markdown",
   "id": "6f75476b",
   "metadata": {},
   "source": [
    "# Убираем выбросы из числовых данных, анализируем их корреляцию"
   ]
  },
  {
   "cell_type": "code",
   "execution_count": 60,
   "id": "d1e3e300",
   "metadata": {},
   "outputs": [
    {
     "data": {
      "text/html": [
       "<div>\n",
       "<style scoped>\n",
       "    .dataframe tbody tr th:only-of-type {\n",
       "        vertical-align: middle;\n",
       "    }\n",
       "\n",
       "    .dataframe tbody tr th {\n",
       "        vertical-align: top;\n",
       "    }\n",
       "\n",
       "    .dataframe thead th {\n",
       "        text-align: right;\n",
       "    }\n",
       "</style>\n",
       "<table border=\"1\" class=\"dataframe\">\n",
       "  <thead>\n",
       "    <tr style=\"text-align: right;\">\n",
       "      <th></th>\n",
       "      <th>age</th>\n",
       "      <th>Medu</th>\n",
       "      <th>Fedu</th>\n",
       "      <th>traveltime</th>\n",
       "      <th>studytime</th>\n",
       "      <th>failures</th>\n",
       "      <th>famrel</th>\n",
       "      <th>freetime</th>\n",
       "      <th>goout</th>\n",
       "      <th>health</th>\n",
       "      <th>absences</th>\n",
       "      <th>score</th>\n",
       "    </tr>\n",
       "  </thead>\n",
       "  <tbody>\n",
       "    <tr>\n",
       "      <th>age</th>\n",
       "      <td>1.000000</td>\n",
       "      <td>-0.132243</td>\n",
       "      <td>-0.085731</td>\n",
       "      <td>0.122348</td>\n",
       "      <td>0.038579</td>\n",
       "      <td>0.125652</td>\n",
       "      <td>0.003417</td>\n",
       "      <td>-0.081685</td>\n",
       "      <td>0.091982</td>\n",
       "      <td>-0.012660</td>\n",
       "      <td>0.255497</td>\n",
       "      <td>-0.154989</td>\n",
       "    </tr>\n",
       "    <tr>\n",
       "      <th>Medu</th>\n",
       "      <td>-0.132243</td>\n",
       "      <td>1.000000</td>\n",
       "      <td>0.624841</td>\n",
       "      <td>-0.191246</td>\n",
       "      <td>0.066465</td>\n",
       "      <td>-0.216101</td>\n",
       "      <td>-0.003372</td>\n",
       "      <td>0.000119</td>\n",
       "      <td>0.054337</td>\n",
       "      <td>-0.064545</td>\n",
       "      <td>0.068474</td>\n",
       "      <td>0.190482</td>\n",
       "    </tr>\n",
       "    <tr>\n",
       "      <th>Fedu</th>\n",
       "      <td>-0.085731</td>\n",
       "      <td>0.624841</td>\n",
       "      <td>1.000000</td>\n",
       "      <td>-0.159700</td>\n",
       "      <td>-0.041527</td>\n",
       "      <td>-0.244653</td>\n",
       "      <td>0.000070</td>\n",
       "      <td>-0.016072</td>\n",
       "      <td>0.042403</td>\n",
       "      <td>0.008250</td>\n",
       "      <td>0.040649</td>\n",
       "      <td>0.124019</td>\n",
       "    </tr>\n",
       "    <tr>\n",
       "      <th>traveltime</th>\n",
       "      <td>0.122348</td>\n",
       "      <td>-0.191246</td>\n",
       "      <td>-0.159700</td>\n",
       "      <td>1.000000</td>\n",
       "      <td>-0.121140</td>\n",
       "      <td>0.107557</td>\n",
       "      <td>-0.037403</td>\n",
       "      <td>0.007844</td>\n",
       "      <td>0.029400</td>\n",
       "      <td>0.017374</td>\n",
       "      <td>-0.010565</td>\n",
       "      <td>-0.087754</td>\n",
       "    </tr>\n",
       "    <tr>\n",
       "      <th>studytime</th>\n",
       "      <td>0.038579</td>\n",
       "      <td>0.066465</td>\n",
       "      <td>-0.041527</td>\n",
       "      <td>-0.121140</td>\n",
       "      <td>1.000000</td>\n",
       "      <td>-0.128723</td>\n",
       "      <td>0.069935</td>\n",
       "      <td>-0.107715</td>\n",
       "      <td>-0.014225</td>\n",
       "      <td>-0.092575</td>\n",
       "      <td>-0.073081</td>\n",
       "      <td>0.148131</td>\n",
       "    </tr>\n",
       "    <tr>\n",
       "      <th>failures</th>\n",
       "      <td>0.125652</td>\n",
       "      <td>-0.216101</td>\n",
       "      <td>-0.244653</td>\n",
       "      <td>0.107557</td>\n",
       "      <td>-0.128723</td>\n",
       "      <td>1.000000</td>\n",
       "      <td>-0.074453</td>\n",
       "      <td>0.064996</td>\n",
       "      <td>0.090054</td>\n",
       "      <td>0.111656</td>\n",
       "      <td>0.214720</td>\n",
       "      <td>-0.284255</td>\n",
       "    </tr>\n",
       "    <tr>\n",
       "      <th>famrel</th>\n",
       "      <td>0.003417</td>\n",
       "      <td>-0.003372</td>\n",
       "      <td>0.000070</td>\n",
       "      <td>-0.037403</td>\n",
       "      <td>0.069935</td>\n",
       "      <td>-0.074453</td>\n",
       "      <td>1.000000</td>\n",
       "      <td>0.145691</td>\n",
       "      <td>0.048743</td>\n",
       "      <td>0.111682</td>\n",
       "      <td>-0.103090</td>\n",
       "      <td>0.068899</td>\n",
       "    </tr>\n",
       "    <tr>\n",
       "      <th>freetime</th>\n",
       "      <td>-0.081685</td>\n",
       "      <td>0.000119</td>\n",
       "      <td>-0.016072</td>\n",
       "      <td>0.007844</td>\n",
       "      <td>-0.107715</td>\n",
       "      <td>0.064996</td>\n",
       "      <td>0.145691</td>\n",
       "      <td>1.000000</td>\n",
       "      <td>0.261543</td>\n",
       "      <td>0.079880</td>\n",
       "      <td>-0.037603</td>\n",
       "      <td>-0.020801</td>\n",
       "    </tr>\n",
       "    <tr>\n",
       "      <th>goout</th>\n",
       "      <td>0.091982</td>\n",
       "      <td>0.054337</td>\n",
       "      <td>0.042403</td>\n",
       "      <td>0.029400</td>\n",
       "      <td>-0.014225</td>\n",
       "      <td>0.090054</td>\n",
       "      <td>0.048743</td>\n",
       "      <td>0.261543</td>\n",
       "      <td>1.000000</td>\n",
       "      <td>0.042211</td>\n",
       "      <td>0.086378</td>\n",
       "      <td>-0.209494</td>\n",
       "    </tr>\n",
       "    <tr>\n",
       "      <th>health</th>\n",
       "      <td>-0.012660</td>\n",
       "      <td>-0.064545</td>\n",
       "      <td>0.008250</td>\n",
       "      <td>0.017374</td>\n",
       "      <td>-0.092575</td>\n",
       "      <td>0.111656</td>\n",
       "      <td>0.111682</td>\n",
       "      <td>0.079880</td>\n",
       "      <td>0.042211</td>\n",
       "      <td>1.000000</td>\n",
       "      <td>-0.028114</td>\n",
       "      <td>-0.069608</td>\n",
       "    </tr>\n",
       "    <tr>\n",
       "      <th>absences</th>\n",
       "      <td>0.255497</td>\n",
       "      <td>0.068474</td>\n",
       "      <td>0.040649</td>\n",
       "      <td>-0.010565</td>\n",
       "      <td>-0.073081</td>\n",
       "      <td>0.214720</td>\n",
       "      <td>-0.103090</td>\n",
       "      <td>-0.037603</td>\n",
       "      <td>0.086378</td>\n",
       "      <td>-0.028114</td>\n",
       "      <td>1.000000</td>\n",
       "      <td>-0.200913</td>\n",
       "    </tr>\n",
       "    <tr>\n",
       "      <th>score</th>\n",
       "      <td>-0.154989</td>\n",
       "      <td>0.190482</td>\n",
       "      <td>0.124019</td>\n",
       "      <td>-0.087754</td>\n",
       "      <td>0.148131</td>\n",
       "      <td>-0.284255</td>\n",
       "      <td>0.068899</td>\n",
       "      <td>-0.020801</td>\n",
       "      <td>-0.209494</td>\n",
       "      <td>-0.069608</td>\n",
       "      <td>-0.200913</td>\n",
       "      <td>1.000000</td>\n",
       "    </tr>\n",
       "  </tbody>\n",
       "</table>\n",
       "</div>"
      ],
      "text/plain": [
       "                 age      Medu      Fedu  traveltime  studytime  failures  \\\n",
       "age         1.000000 -0.132243 -0.085731    0.122348   0.038579  0.125652   \n",
       "Medu       -0.132243  1.000000  0.624841   -0.191246   0.066465 -0.216101   \n",
       "Fedu       -0.085731  0.624841  1.000000   -0.159700  -0.041527 -0.244653   \n",
       "traveltime  0.122348 -0.191246 -0.159700    1.000000  -0.121140  0.107557   \n",
       "studytime   0.038579  0.066465 -0.041527   -0.121140   1.000000 -0.128723   \n",
       "failures    0.125652 -0.216101 -0.244653    0.107557  -0.128723  1.000000   \n",
       "famrel      0.003417 -0.003372  0.000070   -0.037403   0.069935 -0.074453   \n",
       "freetime   -0.081685  0.000119 -0.016072    0.007844  -0.107715  0.064996   \n",
       "goout       0.091982  0.054337  0.042403    0.029400  -0.014225  0.090054   \n",
       "health     -0.012660 -0.064545  0.008250    0.017374  -0.092575  0.111656   \n",
       "absences    0.255497  0.068474  0.040649   -0.010565  -0.073081  0.214720   \n",
       "score      -0.154989  0.190482  0.124019   -0.087754   0.148131 -0.284255   \n",
       "\n",
       "              famrel  freetime     goout    health  absences     score  \n",
       "age         0.003417 -0.081685  0.091982 -0.012660  0.255497 -0.154989  \n",
       "Medu       -0.003372  0.000119  0.054337 -0.064545  0.068474  0.190482  \n",
       "Fedu        0.000070 -0.016072  0.042403  0.008250  0.040649  0.124019  \n",
       "traveltime -0.037403  0.007844  0.029400  0.017374 -0.010565 -0.087754  \n",
       "studytime   0.069935 -0.107715 -0.014225 -0.092575 -0.073081  0.148131  \n",
       "failures   -0.074453  0.064996  0.090054  0.111656  0.214720 -0.284255  \n",
       "famrel      1.000000  0.145691  0.048743  0.111682 -0.103090  0.068899  \n",
       "freetime    0.145691  1.000000  0.261543  0.079880 -0.037603 -0.020801  \n",
       "goout       0.048743  0.261543  1.000000  0.042211  0.086378 -0.209494  \n",
       "health      0.111682  0.079880  0.042211  1.000000 -0.028114 -0.069608  \n",
       "absences   -0.103090 -0.037603  0.086378 -0.028114  1.000000 -0.200913  \n",
       "score       0.068899 -0.020801 -0.209494 -0.069608 -0.200913  1.000000  "
      ]
     },
     "execution_count": 60,
     "metadata": {},
     "output_type": "execute_result"
    }
   ],
   "source": [
    "import pandas as pd\n",
    "import matplotlib.pyplot as plt\n",
    "import seaborn as sns\n",
    "from itertools import combinations\n",
    "from scipy.stats import ttest_ind\n",
    "\n",
    "pd.set_option('display.max_rows', 50)  # показывать больше строк\n",
    "pd.set_option('display.max_columns', 50)  # показывать больше колонок\n",
    "\n",
    "stud = pd.read_csv('C:\\Games/stud_math.csv')\n",
    "\n",
    "# убираем все численные выбросы\n",
    "stud = stud.loc[stud.age <= 19]\n",
    "stud = stud.loc[stud.Fedu <= 4]\n",
    "stud.drop(['studytime, granular'], inplace=True, axis=1)\n",
    "stud = stud.loc[stud.absences <= 40]\n",
    "stud = stud.loc[stud.score > 0]\n",
    "\n",
    "# корреляционный анализ количественных данных\n",
    "\n",
    "stud.corr()\n",
    "\n",
    "# не коррелируют"
   ]
  },
  {
   "cell_type": "markdown",
   "id": "d1795629",
   "metadata": {},
   "source": [
    "Можно сделать вывод, что возраст, неудачи вне школы, количество проведенного времени с друзьями, количество пропущенных занятий негативно влияют на итоговую оценку.\n",
    "При этом образование родителей и время на учебу вне школы положительно влияют на набранный балл. Рассмотрим эти предположения на графиках:"
   ]
  },
  {
   "cell_type": "markdown",
   "id": "8a817199",
   "metadata": {},
   "source": [
    "# Взаимосвязь числовых данных и итоговой оценки"
   ]
  },
  {
   "cell_type": "code",
   "execution_count": 82,
   "id": "c1ed1a42",
   "metadata": {
    "scrolled": false
   },
   "outputs": [
    {
     "data": {
      "image/png": "[encoded data removed]",
      "text/plain": [
       "<Figure size 1008x288 with 1 Axes>"
      ]
     },
     "metadata": {},
     "output_type": "display_data"
    },
    {
     "data": {
      "image/png": "[encoded data removed]",
      "text/plain": [
       "<Figure size 1008x288 with 1 Axes>"
      ]
     },
     "metadata": {},
     "output_type": "display_data"
    },
    {
     "data": {
      "image/png": "[encoded data removed]",
      "text/plain": [
       "<Figure size 1008x288 with 1 Axes>"
      ]
     },
     "metadata": {},
     "output_type": "display_data"
    },
    {
     "data": {
      "image/png": "[encoded data removed]",
      "text/plain": [
       "<Figure size 1008x288 with 1 Axes>"
      ]
     },
     "metadata": {},
     "output_type": "display_data"
    },
    {
     "data": {
      "image/png": "[encoded data removed]",
      "text/plain": [
       "<Figure size 1008x288 with 1 Axes>"
      ]
     },
     "metadata": {},
     "output_type": "display_data"
    },
    {
     "data": {
      "image/png": "[encoded data removed]",
      "text/plain": [
       "<Figure size 1008x288 with 1 Axes>"
      ]
     },
     "metadata": {},
     "output_type": "display_data"
    },
    {
     "data": {
      "image/png": "[encoded data removed]",
      "text/plain": [
       "<Figure size 1008x288 with 1 Axes>"
      ]
     },
     "metadata": {},
     "output_type": "display_data"
    }
   ],
   "source": [
    "import pandas as pd\n",
    "import numpy as np\n",
    "import matplotlib.pyplot as plt\n",
    "import seaborn as sns\n",
    "from itertools import combinations\n",
    "from scipy.stats import ttest_ind\n",
    "import warnings; warnings.simplefilter('ignore')\n",
    "\n",
    "pd.set_option('display.max_rows', 50)  # показывать больше строк\n",
    "pd.set_option('display.max_columns', 50)  # показывать больше колонок\n",
    "\n",
    "stud = pd.read_csv('C:\\Games/stud_math.csv')\n",
    "\n",
    "# убираем все численные выбросы\n",
    "stud = stud.loc[stud.age <= 19]\n",
    "stud = stud.loc[stud.Fedu <= 4]\n",
    "stud.drop(['studytime, granular'], inplace=True, axis=1)\n",
    "stud = stud.loc[stud.absences <= 40]\n",
    "stud = stud.loc[stud.score > 0]\n",
    "\n",
    "def get_barplot(column):\n",
    "    fig, ax = plt.subplots(figsize=(14, 4))\n",
    "    sns.barplot(x=column, y='score',\n",
    "                data=stud.loc[stud.loc[:, column].isin(\n",
    "                    stud.loc[:, column].value_counts().index[:50])],\n",
    "                ax=ax)\n",
    "    plt.xticks(rotation=45)\n",
    "    ax.set_title('Boxplot for ' + column)\n",
    "    plt.show()\n",
    "\n",
    "\n",
    "for col in ['age', 'failures', 'goout','absences', 'Medu','Fedu','studytime']:\n",
    "    get_barplot(col)\n",
    "    "
   ]
  },
  {
   "cell_type": "markdown",
   "id": "3485c0d0",
   "metadata": {},
   "source": [
    "Можно сделать вывод, что выводы, сделанные ранее, верны. Интересным является факт, что отсутствие образование у родителей (корреляция между образованием матери и отца 63%) положительно влияет на балл учащихся."
   ]
  },
  {
   "cell_type": "markdown",
   "id": "982321cf",
   "metadata": {},
   "source": [
    "# Анализируем номинативные данные на предмет статистически значимых различий"
   ]
  },
  {
   "cell_type": "code",
   "execution_count": 7,
   "id": "dbb30491",
   "metadata": {},
   "outputs": [
    {
     "name": "stdout",
     "output_type": "stream",
     "text": [
      "Найдены статистически значимые различия для колонки sex\n",
      "Найдены статистически значимые различия для колонки address\n",
      "Найдены статистически значимые различия для колонки Mjob\n",
      "Найдены статистически значимые различия для колонки schoolsup\n"
     ]
    }
   ],
   "source": [
    "import pandas as pd\n",
    "import matplotlib.pyplot as plt\n",
    "import seaborn as sns\n",
    "from itertools import combinations\n",
    "from scipy.stats import ttest_ind\n",
    "\n",
    "pd.set_option('display.max_rows', 50)  # показывать больше строк\n",
    "pd.set_option('display.max_columns', 50)  # показывать больше колонок\n",
    "\n",
    "stud = pd.read_csv('C:\\Games/stud_math.csv')\n",
    "\n",
    "# убираем все численные выбросы\n",
    "stud = stud.loc[stud.age <= 19]\n",
    "stud = stud.loc[stud.Fedu <= 4]\n",
    "stud.drop(['studytime, granular'], inplace=True, axis=1)\n",
    "stud = stud.loc[stud.absences <= 40]\n",
    "stud = stud.loc[stud.score > 0]\n",
    "\n",
    "# Номинативные переменные влияющие на предсказываемую величину score\n",
    "\n",
    "\n",
    "def get_stat_dif(column):\n",
    "    cols = stud.loc[:, column].value_counts().index[:10]\n",
    "    combinations_all = list(combinations(cols, 2))\n",
    "    for comb in combinations_all:\n",
    "        if ttest_ind(stud.loc[stud.loc[:, column] == comb[0], 'score'],\n",
    "                     stud.loc[stud.loc[:, column] == comb[1], 'score'], nan_policy='omit').pvalue \\\n",
    "                <= 0.075/len(combinations_all):  # Учли поправку Бонферони\n",
    "            print('Найдены статистически значимые различия для колонки', column)\n",
    "            break\n",
    "\n",
    "\n",
    "for col in ['school', 'sex', 'address', 'famsize', 'Pstatus',\n",
    "            'Mjob', 'Fjob', 'reason', 'guardian', 'schoolsup', 'famsup', 'paid', 'activities', 'nursery',\n",
    "            'higher', 'internet', 'romantic']:\n",
    "    get_stat_dif(col)"
   ]
  },
  {
   "cell_type": "markdown",
   "id": "6a57b91e",
   "metadata": {},
   "source": [
    "# Построим Boxplots соотношения выявленных параметров и итоговой оценки"
   ]
  },
  {
   "cell_type": "code",
   "execution_count": 68,
   "id": "95ad1ee5",
   "metadata": {
    "scrolled": false
   },
   "outputs": [
    {
     "data": {
      "image/png": "[encoded data removed]",
      "text/plain": [
       "<Figure size 1008x288 with 1 Axes>"
      ]
     },
     "metadata": {
      "needs_background": "light"
     },
     "output_type": "display_data"
    },
    {
     "data": {
      "image/png": "[encoded data removed]",
      "text/plain": [
       "<Figure size 1008x288 with 1 Axes>"
      ]
     },
     "metadata": {
      "needs_background": "light"
     },
     "output_type": "display_data"
    },
    {
     "data": {
      "image/png": "[encoded data removed]",
      "text/plain": [
       "<Figure size 1008x288 with 1 Axes>"
      ]
     },
     "metadata": {
      "needs_background": "light"
     },
     "output_type": "display_data"
    },
    {
     "data": {
      "image/png": "[encoded data removed]",
      "text/plain": [
       "<Figure size 1008x288 with 1 Axes>"
      ]
     },
     "metadata": {
      "needs_background": "light"
     },
     "output_type": "display_data"
    }
   ],
   "source": [
    "import pandas as pd\n",
    "import matplotlib.pyplot as plt\n",
    "import seaborn as sns\n",
    "from itertools import combinations\n",
    "from scipy.stats import ttest_ind\n",
    "\n",
    "pd.set_option('display.max_rows', 50)  # показывать больше строк\n",
    "pd.set_option('display.max_columns', 50)  # показывать больше колонок\n",
    "\n",
    "stud = pd.read_csv('C:\\Games/stud_math.csv')\n",
    "\n",
    "# убираем все численные выбросы\n",
    "stud = stud.loc[stud.age <= 19]\n",
    "stud = stud.loc[stud.Fedu <= 4]\n",
    "stud.drop(['studytime, granular'], inplace=True, axis=1)\n",
    "stud = stud.loc[stud.absences <= 40]\n",
    "stud = stud.loc[stud.score > 0]\n",
    "\n",
    "\n",
    "def get_boxplot(column):\n",
    "    fig, ax = plt.subplots(figsize=(14, 4))\n",
    "    sns.boxplot(x=column, y='score',\n",
    "                data=stud.loc[stud.loc[:, column].isin(\n",
    "                    stud.loc[:, column].value_counts().index[:10])],\n",
    "                ax=ax)\n",
    "    plt.xticks(rotation=45)\n",
    "    ax.set_title('Boxplot for ' + column)\n",
    "    plt.show()\n",
    "\n",
    "\n",
    "for col in ['sex', 'address', 'Mjob', 'schoolsup']:\n",
    "    get_boxplot(col)"
   ]
  },
  {
   "cell_type": "markdown",
   "id": "fd00fae6",
   "metadata": {},
   "source": [
    "Из графиков выше можно сделать вывод, что в будущем построении модели необходимо уделить внимание полу учащихся, т.к. у мальчиков средние результаты лучше, чем у девочек; на место жительства учащихся, т.к. городские ученики набрали больший балл, чем живущие за городом; на профессию матери, т.к. дети учителей и врачей набрали большее количество баллов; на наличие дополнительной школьной поддержки, так как пародоксально, но при ее отсутствии ученики набрали большее количество баллов."
   ]
  },
  {
   "cell_type": "markdown",
   "id": "4bf2c86d",
   "metadata": {},
   "source": [
    "# Попытка проверки нулевых оценок"
   ]
  },
  {
   "cell_type": "code",
   "execution_count": 28,
   "id": "4195ca41",
   "metadata": {},
   "outputs": [
    {
     "data": {
      "text/html": [
       "<div>\n",
       "<style scoped>\n",
       "    .dataframe tbody tr th:only-of-type {\n",
       "        vertical-align: middle;\n",
       "    }\n",
       "\n",
       "    .dataframe tbody tr th {\n",
       "        vertical-align: top;\n",
       "    }\n",
       "\n",
       "    .dataframe thead th {\n",
       "        text-align: right;\n",
       "    }\n",
       "</style>\n",
       "<table border=\"1\" class=\"dataframe\">\n",
       "  <thead>\n",
       "    <tr style=\"text-align: right;\">\n",
       "      <th></th>\n",
       "      <th>age</th>\n",
       "      <th>Medu</th>\n",
       "      <th>Fedu</th>\n",
       "      <th>traveltime</th>\n",
       "      <th>studytime</th>\n",
       "      <th>failures</th>\n",
       "      <th>studytime, granular</th>\n",
       "      <th>famrel</th>\n",
       "      <th>freetime</th>\n",
       "      <th>goout</th>\n",
       "      <th>health</th>\n",
       "      <th>absences</th>\n",
       "      <th>score</th>\n",
       "    </tr>\n",
       "  </thead>\n",
       "  <tbody>\n",
       "    <tr>\n",
       "      <th>age</th>\n",
       "      <td>1.000000</td>\n",
       "      <td>-0.277001</td>\n",
       "      <td>-0.308023</td>\n",
       "      <td>-0.173553</td>\n",
       "      <td>-0.043985</td>\n",
       "      <td>-0.062840</td>\n",
       "      <td>0.043985</td>\n",
       "      <td>-0.013915</td>\n",
       "      <td>0.189722</td>\n",
       "      <td>0.090751</td>\n",
       "      <td>-0.224359</td>\n",
       "      <td>NaN</td>\n",
       "      <td>NaN</td>\n",
       "    </tr>\n",
       "    <tr>\n",
       "      <th>Medu</th>\n",
       "      <td>-0.277001</td>\n",
       "      <td>1.000000</td>\n",
       "      <td>0.763420</td>\n",
       "      <td>-0.139369</td>\n",
       "      <td>0.138471</td>\n",
       "      <td>-0.314499</td>\n",
       "      <td>-0.138471</td>\n",
       "      <td>-0.053375</td>\n",
       "      <td>0.178854</td>\n",
       "      <td>0.024078</td>\n",
       "      <td>-0.104942</td>\n",
       "      <td>NaN</td>\n",
       "      <td>NaN</td>\n",
       "    </tr>\n",
       "    <tr>\n",
       "      <th>Fedu</th>\n",
       "      <td>-0.308023</td>\n",
       "      <td>0.763420</td>\n",
       "      <td>1.000000</td>\n",
       "      <td>0.013349</td>\n",
       "      <td>0.243154</td>\n",
       "      <td>-0.257808</td>\n",
       "      <td>-0.243154</td>\n",
       "      <td>-0.038095</td>\n",
       "      <td>0.108777</td>\n",
       "      <td>0.126071</td>\n",
       "      <td>0.040732</td>\n",
       "      <td>NaN</td>\n",
       "      <td>NaN</td>\n",
       "    </tr>\n",
       "    <tr>\n",
       "      <th>traveltime</th>\n",
       "      <td>-0.173553</td>\n",
       "      <td>-0.139369</td>\n",
       "      <td>0.013349</td>\n",
       "      <td>1.000000</td>\n",
       "      <td>-0.141737</td>\n",
       "      <td>-0.247421</td>\n",
       "      <td>0.141737</td>\n",
       "      <td>-0.061199</td>\n",
       "      <td>-0.067848</td>\n",
       "      <td>0.046303</td>\n",
       "      <td>-0.144564</td>\n",
       "      <td>NaN</td>\n",
       "      <td>NaN</td>\n",
       "    </tr>\n",
       "    <tr>\n",
       "      <th>studytime</th>\n",
       "      <td>-0.043985</td>\n",
       "      <td>0.138471</td>\n",
       "      <td>0.243154</td>\n",
       "      <td>-0.141737</td>\n",
       "      <td>1.000000</td>\n",
       "      <td>-0.345101</td>\n",
       "      <td>-1.000000</td>\n",
       "      <td>-0.099838</td>\n",
       "      <td>-0.102243</td>\n",
       "      <td>-0.223221</td>\n",
       "      <td>-0.000755</td>\n",
       "      <td>NaN</td>\n",
       "      <td>NaN</td>\n",
       "    </tr>\n",
       "    <tr>\n",
       "      <th>failures</th>\n",
       "      <td>-0.062840</td>\n",
       "      <td>-0.314499</td>\n",
       "      <td>-0.257808</td>\n",
       "      <td>-0.247421</td>\n",
       "      <td>-0.345101</td>\n",
       "      <td>1.000000</td>\n",
       "      <td>0.345101</td>\n",
       "      <td>-0.136602</td>\n",
       "      <td>0.004118</td>\n",
       "      <td>0.031227</td>\n",
       "      <td>0.199496</td>\n",
       "      <td>NaN</td>\n",
       "      <td>NaN</td>\n",
       "    </tr>\n",
       "    <tr>\n",
       "      <th>studytime, granular</th>\n",
       "      <td>0.043985</td>\n",
       "      <td>-0.138471</td>\n",
       "      <td>-0.243154</td>\n",
       "      <td>0.141737</td>\n",
       "      <td>-1.000000</td>\n",
       "      <td>0.345101</td>\n",
       "      <td>1.000000</td>\n",
       "      <td>0.099838</td>\n",
       "      <td>0.102243</td>\n",
       "      <td>0.223221</td>\n",
       "      <td>0.000755</td>\n",
       "      <td>NaN</td>\n",
       "      <td>NaN</td>\n",
       "    </tr>\n",
       "    <tr>\n",
       "      <th>famrel</th>\n",
       "      <td>-0.013915</td>\n",
       "      <td>-0.053375</td>\n",
       "      <td>-0.038095</td>\n",
       "      <td>-0.061199</td>\n",
       "      <td>-0.099838</td>\n",
       "      <td>-0.136602</td>\n",
       "      <td>0.099838</td>\n",
       "      <td>1.000000</td>\n",
       "      <td>0.279762</td>\n",
       "      <td>0.271268</td>\n",
       "      <td>-0.068486</td>\n",
       "      <td>NaN</td>\n",
       "      <td>NaN</td>\n",
       "    </tr>\n",
       "    <tr>\n",
       "      <th>freetime</th>\n",
       "      <td>0.189722</td>\n",
       "      <td>0.178854</td>\n",
       "      <td>0.108777</td>\n",
       "      <td>-0.067848</td>\n",
       "      <td>-0.102243</td>\n",
       "      <td>0.004118</td>\n",
       "      <td>0.102243</td>\n",
       "      <td>0.279762</td>\n",
       "      <td>1.000000</td>\n",
       "      <td>0.319699</td>\n",
       "      <td>-0.017763</td>\n",
       "      <td>NaN</td>\n",
       "      <td>NaN</td>\n",
       "    </tr>\n",
       "    <tr>\n",
       "      <th>goout</th>\n",
       "      <td>0.090751</td>\n",
       "      <td>0.024078</td>\n",
       "      <td>0.126071</td>\n",
       "      <td>0.046303</td>\n",
       "      <td>-0.223221</td>\n",
       "      <td>0.031227</td>\n",
       "      <td>0.223221</td>\n",
       "      <td>0.271268</td>\n",
       "      <td>0.319699</td>\n",
       "      <td>1.000000</td>\n",
       "      <td>-0.093742</td>\n",
       "      <td>NaN</td>\n",
       "      <td>NaN</td>\n",
       "    </tr>\n",
       "    <tr>\n",
       "      <th>health</th>\n",
       "      <td>-0.224359</td>\n",
       "      <td>-0.104942</td>\n",
       "      <td>0.040732</td>\n",
       "      <td>-0.144564</td>\n",
       "      <td>-0.000755</td>\n",
       "      <td>0.199496</td>\n",
       "      <td>0.000755</td>\n",
       "      <td>-0.068486</td>\n",
       "      <td>-0.017763</td>\n",
       "      <td>-0.093742</td>\n",
       "      <td>1.000000</td>\n",
       "      <td>NaN</td>\n",
       "      <td>NaN</td>\n",
       "    </tr>\n",
       "    <tr>\n",
       "      <th>absences</th>\n",
       "      <td>NaN</td>\n",
       "      <td>NaN</td>\n",
       "      <td>NaN</td>\n",
       "      <td>NaN</td>\n",
       "      <td>NaN</td>\n",
       "      <td>NaN</td>\n",
       "      <td>NaN</td>\n",
       "      <td>NaN</td>\n",
       "      <td>NaN</td>\n",
       "      <td>NaN</td>\n",
       "      <td>NaN</td>\n",
       "      <td>NaN</td>\n",
       "      <td>NaN</td>\n",
       "    </tr>\n",
       "    <tr>\n",
       "      <th>score</th>\n",
       "      <td>NaN</td>\n",
       "      <td>NaN</td>\n",
       "      <td>NaN</td>\n",
       "      <td>NaN</td>\n",
       "      <td>NaN</td>\n",
       "      <td>NaN</td>\n",
       "      <td>NaN</td>\n",
       "      <td>NaN</td>\n",
       "      <td>NaN</td>\n",
       "      <td>NaN</td>\n",
       "      <td>NaN</td>\n",
       "      <td>NaN</td>\n",
       "      <td>NaN</td>\n",
       "    </tr>\n",
       "  </tbody>\n",
       "</table>\n",
       "</div>"
      ],
      "text/plain": [
       "                          age      Medu      Fedu  traveltime  studytime  \\\n",
       "age                  1.000000 -0.277001 -0.308023   -0.173553  -0.043985   \n",
       "Medu                -0.277001  1.000000  0.763420   -0.139369   0.138471   \n",
       "Fedu                -0.308023  0.763420  1.000000    0.013349   0.243154   \n",
       "traveltime          -0.173553 -0.139369  0.013349    1.000000  -0.141737   \n",
       "studytime           -0.043985  0.138471  0.243154   -0.141737   1.000000   \n",
       "failures            -0.062840 -0.314499 -0.257808   -0.247421  -0.345101   \n",
       "studytime, granular  0.043985 -0.138471 -0.243154    0.141737  -1.000000   \n",
       "famrel              -0.013915 -0.053375 -0.038095   -0.061199  -0.099838   \n",
       "freetime             0.189722  0.178854  0.108777   -0.067848  -0.102243   \n",
       "goout                0.090751  0.024078  0.126071    0.046303  -0.223221   \n",
       "health              -0.224359 -0.104942  0.040732   -0.144564  -0.000755   \n",
       "absences                  NaN       NaN       NaN         NaN        NaN   \n",
       "score                     NaN       NaN       NaN         NaN        NaN   \n",
       "\n",
       "                     failures  studytime, granular    famrel  freetime  \\\n",
       "age                 -0.062840             0.043985 -0.013915  0.189722   \n",
       "Medu                -0.314499            -0.138471 -0.053375  0.178854   \n",
       "Fedu                -0.257808            -0.243154 -0.038095  0.108777   \n",
       "traveltime          -0.247421             0.141737 -0.061199 -0.067848   \n",
       "studytime           -0.345101            -1.000000 -0.099838 -0.102243   \n",
       "failures             1.000000             0.345101 -0.136602  0.004118   \n",
       "studytime, granular  0.345101             1.000000  0.099838  0.102243   \n",
       "famrel              -0.136602             0.099838  1.000000  0.279762   \n",
       "freetime             0.004118             0.102243  0.279762  1.000000   \n",
       "goout                0.031227             0.223221  0.271268  0.319699   \n",
       "health               0.199496             0.000755 -0.068486 -0.017763   \n",
       "absences                  NaN                  NaN       NaN       NaN   \n",
       "score                     NaN                  NaN       NaN       NaN   \n",
       "\n",
       "                        goout    health  absences  score  \n",
       "age                  0.090751 -0.224359       NaN    NaN  \n",
       "Medu                 0.024078 -0.104942       NaN    NaN  \n",
       "Fedu                 0.126071  0.040732       NaN    NaN  \n",
       "traveltime           0.046303 -0.144564       NaN    NaN  \n",
       "studytime           -0.223221 -0.000755       NaN    NaN  \n",
       "failures             0.031227  0.199496       NaN    NaN  \n",
       "studytime, granular  0.223221  0.000755       NaN    NaN  \n",
       "famrel               0.271268 -0.068486       NaN    NaN  \n",
       "freetime             0.319699 -0.017763       NaN    NaN  \n",
       "goout                1.000000 -0.093742       NaN    NaN  \n",
       "health              -0.093742  1.000000       NaN    NaN  \n",
       "absences                  NaN       NaN       NaN    NaN  \n",
       "score                     NaN       NaN       NaN    NaN  "
      ]
     },
     "execution_count": 28,
     "metadata": {},
     "output_type": "execute_result"
    }
   ],
   "source": [
    "import pandas as pd\n",
    "import matplotlib.pyplot as plt\n",
    "import seaborn as sns\n",
    "from itertools import combinations\n",
    "from scipy.stats import ttest_ind\n",
    "\n",
    "pd.set_option('display.max_rows', 50)  # показывать больше строк\n",
    "pd.set_option('display.max_columns', 50)  # показывать больше колонок\n",
    "\n",
    "stud = pd.read_csv('C:\\Games/stud_math.csv')\n",
    "\n",
    "# фильтруем датафрейм только по нулевым оценкам\n",
    "stud = stud.loc[stud.score == 0]\n",
    "stud.corr()\n",
    "#нет данных по оценкам и пропускам занятий, функция статистически значимых различий номинативных данных не работает, необходимо выяснить причину нулевых оценок в датафрейме."
   ]
  },
  {
   "cell_type": "markdown",
   "id": "26662d4b",
   "metadata": {},
   "source": [
    "# Итоговый вывод"
   ]
  },
  {
   "cell_type": "markdown",
   "id": "72f28f73",
   "metadata": {},
   "source": [
    "Возраст (чем старше, тем хуже результат), количество неудач вне школы, продолжительность времени, проведенного с друзьями, количество пропущенных занятий, негативно влияют на успеваемость учеников.\n",
    "Продолжительность времени, посвященного учебе вне школы; образование родителей, жизнь в городе, профессия матери учитель или врач позитивно влияют на успеваемость учеников.\n",
    "Также наблюдается пародоксальная и интересная зависимость: отсутствие образования у родителей позитивно повлияло на набранный балл, отсутствие школьной поддержки также позитивно влияет на успеваемость учеников.\n",
    "    *Необходимо проверить данные около 40 учеников с нулевыми оценками и отсутствием данных о пропущенных занятиях."
   ]
  }
 ],
 "metadata": {
  "kernelspec": {
   "display_name": "Python 3",
   "language": "python",
   "name": "python3"
  },
  "language_info": {
   "codemirror_mode": {
    "name": "ipython",
    "version": 3
   },
   "file_extension": ".py",
   "mimetype": "text/x-python",
   "name": "python",
   "nbconvert_exporter": "python",
   "pygments_lexer": "ipython3",
   "version": "3.8.8"
  }
 },
 "nbformat": 4,
 "nbformat_minor": 5
}
