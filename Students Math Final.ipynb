{
 "cells": [
  {
   "cell_type": "markdown",
   "id": "bbc48876",
   "metadata": {},
   "source": [
    "# UNICEF Project"
   ]
  },
  {
   "cell_type": "markdown",
   "id": "51e7c530",
   "metadata": {},
   "source": [
    "Цель проекта - выявить влияние условий жизни учащихся на их успеваемость по математике. Задачи проекта - обработать набор данных по учащимся, выявить корреляцию между факторами условий жизни учащихся и их оценкой за экзамен по математике, отобрать параметры будущей модели для прогнозирования результатов экзамена."
   ]
  },
  {
   "cell_type": "markdown",
   "id": "00af5ce6",
   "metadata": {},
   "source": [
    "В датафрейме приведены параметры условий жизни учащихся и их оценка за экзамен по математике. Присутствуют незаполненные ячейки и выбросы в числовых данных."
   ]
  },
  {
   "cell_type": "markdown",
   "id": "0b491eb2",
   "metadata": {},
   "source": [
    "# Проанализируем колонки с числовыми данными на выбросы"
   ]
  },
  {
   "cell_type": "code",
   "execution_count": 1,
   "id": "dfc5c389",
   "metadata": {},
   "outputs": [
    {
     "data": {
      "text/plain": [
       "count    395.000000\n",
       "mean      16.696203\n",
       "std        1.276043\n",
       "min       15.000000\n",
       "25%       16.000000\n",
       "50%       17.000000\n",
       "75%       18.000000\n",
       "max       22.000000\n",
       "Name: age, dtype: float64"
      ]
     },
     "execution_count": 1,
     "metadata": {},
     "output_type": "execute_result"
    },
    {
     "data": {
      "image/png": "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\n",
      "text/plain": [
       "<Figure size 432x288 with 1 Axes>"
      ]
     },
     "metadata": {
      "needs_background": "light"
     },
     "output_type": "display_data"
    }
   ],
   "source": [
    "# смотрим на распределение признака для числовых перменных\n",
    "import pandas as pd\n",
    "import matplotlib.pyplot as plt\n",
    "import seaborn as sns\n",
    "from itertools import combinations\n",
    "from scipy.stats import ttest_ind\n",
    "\n",
    "pd.set_option('display.max_rows', 50)  # показывать больше строк\n",
    "pd.set_option('display.max_columns', 50)  # показывать больше колонок\n",
    "\n",
    "stud = pd.read_csv('stud_math.csv')\n",
    "stud.age.hist()\n",
    "stud.age.describe()  # есть выбросы"
   ]
  },
  {
   "cell_type": "code",
   "execution_count": 22,
   "id": "49c97a0a",
   "metadata": {},
   "outputs": [
    {
     "name": "stdout",
     "output_type": "stream",
     "text": [
      "25-й перцентиль: 16.0, 75-й перцентиль: 18.0, IQR: 2.0,  Границы выбросов: [15.0, 19.0].\n"
     ]
    },
    {
     "data": {
      "text/plain": [
       "count    395.000000\n",
       "mean      16.696203\n",
       "std        1.276043\n",
       "min       15.000000\n",
       "25%       16.000000\n",
       "50%       17.000000\n",
       "75%       18.000000\n",
       "max       22.000000\n",
       "Name: age, dtype: float64"
      ]
     },
     "execution_count": 22,
     "metadata": {},
     "output_type": "execute_result"
    },
    {
     "data": {
      "image/png": "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\n",
      "text/plain": [
       "<Figure size 432x288 with 1 Axes>"
      ]
     },
     "metadata": {
      "needs_background": "light"
     },
     "output_type": "display_data"
    }
   ],
   "source": [
    "import pandas as pd\n",
    "import matplotlib.pyplot as plt\n",
    "import seaborn as sns\n",
    "from itertools import combinations\n",
    "from scipy.stats import ttest_ind\n",
    "\n",
    "pd.set_option('display.max_rows', 50)  # показывать больше строк\n",
    "pd.set_option('display.max_columns', 50)  # показывать больше колонок\n",
    "\n",
    "stud = pd.read_csv('stud_math.csv')\n",
    "\n",
    "#определим интерквартильное расстояние\n",
    "IQR = stud.age.quantile(0.75) - stud.age.quantile(0.25)\n",
    "perc25 = stud.age.quantile(0.25)\n",
    "perc75 = stud.age.quantile(0.75)\n",
    "\n",
    "print(\n",
    "    '25-й перцентиль: {},'.format(perc25),\n",
    "    '75-й перцентиль: {},'.format(perc75),\n",
    "    \"IQR: {}, \".format(IQR),\n",
    "    \"Границы выбросов: [{f}, {l}].\".format(f=perc25 - 0.5*IQR, l=perc75 + 0.5*IQR))\n",
    "\n",
    "stud.age.loc[stud.age.between(\n",
    "    perc25 - 0.5*IQR,\n",
    "    perc75 + 0.5*IQR)].hist(bins=10, range=(14, 23), label='IQR')\n",
    "\n",
    "stud.age.loc[stud.age <= 25].hist(\n",
    "    alpha=0.5, bins=10, range=(14, 23), label='Выбросы')\n",
    "\n",
    "plt.legend()\n",
    "stud.age.describe()  # 20-22 года - выбросы, уберем их позже: stud = stud.loc[stud.age <= 19]"
   ]
  },
  {
   "cell_type": "code",
   "execution_count": 10,
   "id": "53adc9e4",
   "metadata": {},
   "outputs": [
    {
     "data": {
      "text/plain": [
       "count    392.000000\n",
       "mean       2.750000\n",
       "std        1.098127\n",
       "min        0.000000\n",
       "25%        2.000000\n",
       "50%        3.000000\n",
       "75%        4.000000\n",
       "max        4.000000\n",
       "Name: Medu, dtype: float64"
      ]
     },
     "execution_count": 10,
     "metadata": {},
     "output_type": "execute_result"
    },
    {
     "data": {
      "image/png": "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\n",
      "text/plain": [
       "<Figure size 432x288 with 1 Axes>"
      ]
     },
     "metadata": {
      "needs_background": "light"
     },
     "output_type": "display_data"
    }
   ],
   "source": [
    "import pandas as pd\n",
    "import matplotlib.pyplot as plt\n",
    "import seaborn as sns\n",
    "from itertools import combinations\n",
    "from scipy.stats import ttest_ind\n",
    "\n",
    "pd.set_option('display.max_rows', 50)  # показывать больше строк\n",
    "pd.set_option('display.max_columns', 50)  # показывать больше колонок\n",
    "\n",
    "stud = pd.read_csv('stud_math.csv')\n",
    "stud.Medu.hist()\n",
    "stud.Medu.describe()  # нет выбросов"
   ]
  },
  {
   "cell_type": "code",
   "execution_count": 20,
   "id": "fd7714d0",
   "metadata": {},
   "outputs": [
    {
     "data": {
      "text/plain": [
       "2.0     106\n",
       "3.0      96\n",
       "4.0      88\n",
       "1.0      78\n",
       "0.0       2\n",
       "40.0      1\n",
       "Name: Fedu, dtype: int64"
      ]
     },
     "execution_count": 20,
     "metadata": {},
     "output_type": "execute_result"
    },
    {
     "data": {
      "image/png": "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\n",
      "text/plain": [
       "<Figure size 432x288 with 1 Axes>"
      ]
     },
     "metadata": {
      "needs_background": "light"
     },
     "output_type": "display_data"
    }
   ],
   "source": [
    "import pandas as pd\n",
    "import matplotlib.pyplot as plt\n",
    "import seaborn as sns\n",
    "from itertools import combinations\n",
    "from scipy.stats import ttest_ind\n",
    "\n",
    "pd.set_option('display.max_rows', 50)  # показывать больше строк\n",
    "pd.set_option('display.max_columns', 50)  # показывать больше колонок\n",
    "\n",
    "stud = pd.read_csv('stud_math.csv')\n",
    "stud.Fedu.hist()\n",
    "stud.Fedu.describe()  # есть выброс, максимальная оценка = 4, нужно будет убрать его: stud = stud.loc(stud.Fedu <=4)\n",
    "stud.Fedu.value_counts()"
   ]
  },
  {
   "cell_type": "code",
   "execution_count": 36,
   "id": "1f05b0b5",
   "metadata": {},
   "outputs": [
    {
     "data": {
      "text/plain": [
       "count    367.000000\n",
       "mean       1.438692\n",
       "std        0.694181\n",
       "min        1.000000\n",
       "25%        1.000000\n",
       "50%        1.000000\n",
       "75%        2.000000\n",
       "max        4.000000\n",
       "Name: traveltime, dtype: float64"
      ]
     },
     "execution_count": 36,
     "metadata": {},
     "output_type": "execute_result"
    },
    {
     "data": {
      "image/png": "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\n",
      "text/plain": [
       "<Figure size 432x288 with 1 Axes>"
      ]
     },
     "metadata": {
      "needs_background": "light"
     },
     "output_type": "display_data"
    }
   ],
   "source": [
    "import pandas as pd\n",
    "import matplotlib.pyplot as plt\n",
    "import seaborn as sns\n",
    "from itertools import combinations\n",
    "from scipy.stats import ttest_ind\n",
    "\n",
    "pd.set_option('display.max_rows', 50)  # показывать больше строк\n",
    "pd.set_option('display.max_columns', 50)  # показывать больше колонок\n",
    "\n",
    "stud = pd.read_csv('stud_math.csv')\n",
    "stud.traveltime.hist()\n",
    "stud.traveltime.describe()  # нет выбросов\n",
    "# stud.traveltime.value_counts()"
   ]
  },
  {
   "cell_type": "code",
   "execution_count": 37,
   "id": "dc2d76c7",
   "metadata": {},
   "outputs": [
    {
     "data": {
      "text/plain": [
       "count    388.000000\n",
       "mean       2.038660\n",
       "std        0.842078\n",
       "min        1.000000\n",
       "25%        1.000000\n",
       "50%        2.000000\n",
       "75%        2.000000\n",
       "max        4.000000\n",
       "Name: studytime, dtype: float64"
      ]
     },
     "execution_count": 37,
     "metadata": {},
     "output_type": "execute_result"
    },
    {
     "data": {
      "image/png": "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\n",
      "text/plain": [
       "<Figure size 432x288 with 1 Axes>"
      ]
     },
     "metadata": {
      "needs_background": "light"
     },
     "output_type": "display_data"
    }
   ],
   "source": [
    "import pandas as pd\n",
    "import matplotlib.pyplot as plt\n",
    "import seaborn as sns\n",
    "from itertools import combinations\n",
    "from scipy.stats import ttest_ind\n",
    "\n",
    "pd.set_option('display.max_rows', 50)  # показывать больше строк\n",
    "pd.set_option('display.max_columns', 50)  # показывать больше колонок\n",
    "\n",
    "stud = pd.read_csv('stud_math.csv')\n",
    "stud.studytime.hist()\n",
    "stud.studytime.describe()  # нет выбросов"
   ]
  },
  {
   "cell_type": "code",
   "execution_count": 39,
   "id": "cadc0b94",
   "metadata": {},
   "outputs": [
    {
     "data": {
      "text/plain": [
       "0.0    293\n",
       "1.0     49\n",
       "2.0     16\n",
       "3.0     15\n",
       "Name: failures, dtype: int64"
      ]
     },
     "execution_count": 39,
     "metadata": {},
     "output_type": "execute_result"
    },
    {
     "data": {
      "image/png": "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\n",
      "text/plain": [
       "<Figure size 432x288 with 1 Axes>"
      ]
     },
     "metadata": {
      "needs_background": "light"
     },
     "output_type": "display_data"
    }
   ],
   "source": [
    "import pandas as pd\n",
    "import matplotlib.pyplot as plt\n",
    "import seaborn as sns\n",
    "from itertools import combinations\n",
    "from scipy.stats import ttest_ind\n",
    "\n",
    "pd.set_option('display.max_rows', 50)  # показывать больше строк\n",
    "pd.set_option('display.max_columns', 50)  # показывать больше колонок\n",
    "\n",
    "stud = pd.read_csv('stud_math.csv')\n",
    "stud.failures.hist()\n",
    "stud.failures.value_counts()  # нет выбросов"
   ]
  },
  {
   "cell_type": "code",
   "execution_count": 27,
   "id": "8480ca91",
   "metadata": {},
   "outputs": [
    {
     "data": {
      "text/plain": [
       "-6.0     194\n",
       "-3.0     103\n",
       "-9.0      64\n",
       "-12.0     27\n",
       "Name: studytime, granular, dtype: int64"
      ]
     },
     "execution_count": 27,
     "metadata": {},
     "output_type": "execute_result"
    },
    {
     "data": {
      "image/png": "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\n",
      "text/plain": [
       "<Figure size 432x288 with 1 Axes>"
      ]
     },
     "metadata": {
      "needs_background": "light"
     },
     "output_type": "display_data"
    }
   ],
   "source": [
    "import pandas as pd\n",
    "import matplotlib.pyplot as plt\n",
    "import seaborn as sns\n",
    "from itertools import combinations\n",
    "from scipy.stats import ttest_ind\n",
    "\n",
    "pd.set_option('display.max_rows', 50)  # показывать больше строк\n",
    "pd.set_option('display.max_columns', 50)  # показывать больше колонок\n",
    "\n",
    "stud = pd.read_csv('stud_math.csv')\n",
    "stud['studytime, granular'].hist()\n",
    "stud['studytime, granular'].value_counts()  # нужно удалить столбец (его нет в описании и позже мы увидим, что он коррелирует с studytime)"
   ]
  },
  {
   "cell_type": "code",
   "execution_count": 43,
   "id": "fd856108",
   "metadata": {},
   "outputs": [
    {
     "data": {
      "text/plain": [
       " 4.0    182\n",
       " 5.0     99\n",
       " 3.0     62\n",
       " 2.0     17\n",
       " 1.0      7\n",
       "-1.0      1\n",
       "Name: famrel, dtype: int64"
      ]
     },
     "execution_count": 43,
     "metadata": {},
     "output_type": "execute_result"
    },
    {
     "data": {
      "image/png": "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\n",
      "text/plain": [
       "<Figure size 432x288 with 1 Axes>"
      ]
     },
     "metadata": {
      "needs_background": "light"
     },
     "output_type": "display_data"
    }
   ],
   "source": [
    "import pandas as pd\n",
    "import matplotlib.pyplot as plt\n",
    "import seaborn as sns\n",
    "from itertools import combinations\n",
    "from scipy.stats import ttest_ind\n",
    "\n",
    "pd.set_option('display.max_rows', 50)  # показывать больше строк\n",
    "pd.set_option('display.max_columns', 50)  # показывать больше колонок\n",
    "\n",
    "stud = pd.read_csv('stud_math.csv')\n",
    "stud['famrel'].hist() # есть выброс, это ошибка, оценка может быть в пределах от 1 до 5, нужно будет убрать выброс: stud = stud.loc(stud.Fedu >=1)\n",
    "stud['famrel'].value_counts()"
   ]
  },
  {
   "cell_type": "code",
   "execution_count": 44,
   "id": "0d9ee8db",
   "metadata": {},
   "outputs": [
    {
     "data": {
      "text/plain": [
       "3.0    153\n",
       "4.0    112\n",
       "2.0     63\n",
       "5.0     38\n",
       "1.0     18\n",
       "Name: freetime, dtype: int64"
      ]
     },
     "execution_count": 44,
     "metadata": {},
     "output_type": "execute_result"
    },
    {
     "data": {
      "image/png": "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\n",
      "text/plain": [
       "<Figure size 432x288 with 1 Axes>"
      ]
     },
     "metadata": {
      "needs_background": "light"
     },
     "output_type": "display_data"
    }
   ],
   "source": [
    "import pandas as pd\n",
    "import matplotlib.pyplot as plt\n",
    "import seaborn as sns\n",
    "from itertools import combinations\n",
    "from scipy.stats import ttest_ind\n",
    "\n",
    "pd.set_option('display.max_rows', 50)  # показывать больше строк\n",
    "pd.set_option('display.max_columns', 50)  # показывать больше колонок\n",
    "\n",
    "stud = pd.read_csv('stud_math.csv')\n",
    "stud['freetime'].hist()\n",
    "stud['freetime'].value_counts()  # нет выбросов"
   ]
  },
  {
   "cell_type": "code",
   "execution_count": 45,
   "id": "a30c866f",
   "metadata": {},
   "outputs": [
    {
     "data": {
      "text/plain": [
       "3.0    127\n",
       "2.0    101\n",
       "4.0     84\n",
       "5.0     52\n",
       "1.0     23\n",
       "Name: goout, dtype: int64"
      ]
     },
     "execution_count": 45,
     "metadata": {},
     "output_type": "execute_result"
    },
    {
     "data": {
      "image/png": "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\n",
      "text/plain": [
       "<Figure size 432x288 with 1 Axes>"
      ]
     },
     "metadata": {
      "needs_background": "light"
     },
     "output_type": "display_data"
    }
   ],
   "source": [
    "import pandas as pd\n",
    "import matplotlib.pyplot as plt\n",
    "import seaborn as sns\n",
    "from itertools import combinations\n",
    "from scipy.stats import ttest_ind\n",
    "\n",
    "pd.set_option('display.max_rows', 50)  # показывать больше строк\n",
    "pd.set_option('display.max_columns', 50)  # показывать больше колонок\n",
    "\n",
    "stud = pd.read_csv('stud_math.csv')\n",
    "stud['goout'].hist()\n",
    "stud['goout'].value_counts()  # нет выбросов"
   ]
  },
  {
   "cell_type": "code",
   "execution_count": 46,
   "id": "0355875c",
   "metadata": {},
   "outputs": [
    {
     "data": {
      "text/plain": [
       "5.0    138\n",
       "3.0     89\n",
       "4.0     63\n",
       "1.0     47\n",
       "2.0     43\n",
       "Name: health, dtype: int64"
      ]
     },
     "execution_count": 46,
     "metadata": {},
     "output_type": "execute_result"
    },
    {
     "data": {
      "image/png": "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\n",
      "text/plain": [
       "<Figure size 432x288 with 1 Axes>"
      ]
     },
     "metadata": {
      "needs_background": "light"
     },
     "output_type": "display_data"
    }
   ],
   "source": [
    "import pandas as pd\n",
    "import matplotlib.pyplot as plt\n",
    "import seaborn as sns\n",
    "from itertools import combinations\n",
    "from scipy.stats import ttest_ind\n",
    "\n",
    "pd.set_option('display.max_rows', 50)  # показывать больше строк\n",
    "pd.set_option('display.max_columns', 50)  # показывать больше колонок\n",
    "\n",
    "stud = pd.read_csv('stud_math.csv')\n",
    "stud['health'].hist()\n",
    "stud['health'].value_counts()  # нет выбросов"
   ]
  },
  {
   "cell_type": "code",
   "execution_count": 29,
   "id": "c3135b42",
   "metadata": {},
   "outputs": [
    {
     "name": "stdout",
     "output_type": "stream",
     "text": [
      "25-й перцентиль: 0.0, 75-й перцентиль: 8.0, IQR: 8.0,  Границы выбросов: [-32.0, 40.0].\n"
     ]
    },
    {
     "data": {
      "text/plain": [
       "count    383.000000\n",
       "mean       7.279373\n",
       "std       23.465197\n",
       "min        0.000000\n",
       "25%        0.000000\n",
       "50%        4.000000\n",
       "75%        8.000000\n",
       "max      385.000000\n",
       "Name: absences, dtype: float64"
      ]
     },
     "execution_count": 29,
     "metadata": {},
     "output_type": "execute_result"
    },
    {
     "data": {
      "image/png": "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
